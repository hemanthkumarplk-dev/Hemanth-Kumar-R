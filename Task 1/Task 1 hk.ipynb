{
 "cells": [
  {
   "cell_type": "markdown",
   "id": "ce0050c7-b92b-4e60-9369-6ab4badc0355",
   "metadata": {},
   "source": [
    "# 1.Import dataset and basic info"
   ]
  },
  {
   "cell_type": "code",
   "execution_count": 34,
   "id": "4eba5b52-973e-4478-af93-ca88d1402505",
   "metadata": {},
   "outputs": [
    {
     "name": "stdout",
     "output_type": "stream",
     "text": [
      "🔹 First 5 rows of the dataset:\n",
      "   PassengerId  Survived  Pclass  \\\n",
      "0            1         0       3   \n",
      "1            2         1       1   \n",
      "2            3         1       3   \n",
      "3            4         1       1   \n",
      "4            5         0       3   \n",
      "\n",
      "                                                Name     Sex   Age  SibSp  \\\n",
      "0                            Braund, Mr. Owen Harris    male  22.0      1   \n",
      "1  Cumings, Mrs. John Bradley (Florence Briggs Th...  female  38.0      1   \n",
      "2                             Heikkinen, Miss. Laina  female  26.0      0   \n",
      "3       Futrelle, Mrs. Jacques Heath (Lily May Peel)  female  35.0      1   \n",
      "4                           Allen, Mr. William Henry    male  35.0      0   \n",
      "\n",
      "   Parch            Ticket     Fare Cabin Embarked  \n",
      "0      0         A/5 21171   7.2500   NaN        S  \n",
      "1      0          PC 17599  71.2833   C85        C  \n",
      "2      0  STON/O2. 3101282   7.9250   NaN        S  \n",
      "3      0            113803  53.1000  C123        S  \n",
      "4      0            373450   8.0500   NaN        S   \n",
      "\n",
      "🔹 Dataset info:\n",
      "<class 'pandas.core.frame.DataFrame'>\n",
      "RangeIndex: 891 entries, 0 to 890\n",
      "Data columns (total 12 columns):\n",
      " #   Column       Non-Null Count  Dtype  \n",
      "---  ------       --------------  -----  \n",
      " 0   PassengerId  891 non-null    int64  \n",
      " 1   Survived     891 non-null    int64  \n",
      " 2   Pclass       891 non-null    int64  \n",
      " 3   Name         891 non-null    object \n",
      " 4   Sex          891 non-null    object \n",
      " 5   Age          714 non-null    float64\n",
      " 6   SibSp        891 non-null    int64  \n",
      " 7   Parch        891 non-null    int64  \n",
      " 8   Ticket       891 non-null    object \n",
      " 9   Fare         891 non-null    float64\n",
      " 10  Cabin        204 non-null    object \n",
      " 11  Embarked     889 non-null    object \n",
      "dtypes: float64(2), int64(5), object(5)\n",
      "memory usage: 83.7+ KB\n",
      "None \n",
      "\n",
      "🔹 Missing values per column:\n",
      "PassengerId      0\n",
      "Survived         0\n",
      "Pclass           0\n",
      "Name             0\n",
      "Sex              0\n",
      "Age            177\n",
      "SibSp            0\n",
      "Parch            0\n",
      "Ticket           0\n",
      "Fare             0\n",
      "Cabin          687\n",
      "Embarked         2\n",
      "dtype: int64 \n",
      "\n",
      "🔹 Summary statistics (numeric columns):\n",
      "       PassengerId    Survived      Pclass         Age       SibSp  \\\n",
      "count   891.000000  891.000000  891.000000  714.000000  891.000000   \n",
      "mean    446.000000    0.383838    2.308642   29.699118    0.523008   \n",
      "std     257.353842    0.486592    0.836071   14.526497    1.102743   \n",
      "min       1.000000    0.000000    1.000000    0.420000    0.000000   \n",
      "25%     223.500000    0.000000    2.000000   20.125000    0.000000   \n",
      "50%     446.000000    0.000000    3.000000   28.000000    0.000000   \n",
      "75%     668.500000    1.000000    3.000000   38.000000    1.000000   \n",
      "max     891.000000    1.000000    3.000000   80.000000    8.000000   \n",
      "\n",
      "            Parch        Fare  \n",
      "count  891.000000  891.000000  \n",
      "mean     0.381594   32.204208  \n",
      "std      0.806057   49.693429  \n",
      "min      0.000000    0.000000  \n",
      "25%      0.000000    7.910400  \n",
      "50%      0.000000   14.454200  \n",
      "75%      0.000000   31.000000  \n",
      "max      6.000000  512.329200  \n"
     ]
    }
   ],
   "source": [
    "import pandas as pd\n",
    "\n",
    "# 1. Load the dataset\n",
    "df = pd.read_csv(\"Titanic-Dataset.csv\")\n",
    "\n",
    "# 2. Display first 5 rows\n",
    "print(\"🔹 First 5 rows of the dataset:\")\n",
    "print(df.head(), \"\\n\")\n",
    "\n",
    "# 3. Dataset structure (rows, columns, data types, non-null counts)\n",
    "print(\"🔹 Dataset info:\")\n",
    "print(df.info(), \"\\n\")\n",
    "\n",
    "# 4. Check missing values in each column\n",
    "print(\"🔹 Missing values per column:\")\n",
    "print(df.isnull().sum(), \"\\n\")\n",
    "\n",
    "# 5. Basic statistics for numeric columns\n",
    "print(\"🔹 Summary statistics (numeric columns):\")\n",
    "print(df.describe())\n",
    "\n"
   ]
  },
  {
   "cell_type": "markdown",
   "id": "5ef1674a-89cd-48c2-9883-f72b716c01f4",
   "metadata": {},
   "source": [
    "# 2.Handling missing values using mean/meadian/mode/imputation"
   ]
  },
  {
   "cell_type": "code",
   "execution_count": 35,
   "id": "a03bc780-7050-440c-9966-baa700cdae61",
   "metadata": {},
   "outputs": [
    {
     "name": "stdout",
     "output_type": "stream",
     "text": [
      "0\n",
      "PassengerId      0\n",
      "Survived         0\n",
      "Pclass           0\n",
      "Name             0\n",
      "Sex              0\n",
      "Age              0\n",
      "SibSp            0\n",
      "Parch            0\n",
      "Ticket           0\n",
      "Fare             0\n",
      "Cabin          687\n",
      "Embarked         0\n",
      "dtype: int64\n"
     ]
    }
   ],
   "source": [
    "# Fill missing values in 'Age' using mean (future-proof)\n",
    "df['Age'] = df['Age'].fillna(df['Age'].mean())\n",
    "\n",
    "# Fill missing values in 'Fare' using median\n",
    "df['Fare'] = df['Fare'].fillna(df['Fare'].median())\n",
    "\n",
    "# Fill missing values in 'Embarked' using mode\n",
    "df['Embarked'] = df['Embarked'].fillna(df['Embarked'].mode()[0])\n",
    "# Check\n",
    "print(df['Embarked'].isnull().sum())\n",
    "print(df.isnull().sum())"
   ]
  },
  {
   "cell_type": "markdown",
   "id": "36c4ca9e-64f5-41e0-b7bc-96deb2993da7",
   "metadata": {},
   "source": [
    "# 3.Convert categorical features into numerical"
   ]
  },
  {
   "cell_type": "code",
   "execution_count": 36,
   "id": "68d3916f-b324-42da-bb15-85fb0efd00b5",
   "metadata": {},
   "outputs": [
    {
     "name": "stdout",
     "output_type": "stream",
     "text": [
      "   PassengerId  Survived  Pclass  \\\n",
      "0            1         0       3   \n",
      "1            2         1       1   \n",
      "2            3         1       3   \n",
      "3            4         1       1   \n",
      "4            5         0       3   \n",
      "\n",
      "                                                Name  Sex   Age  SibSp  Parch  \\\n",
      "0                            Braund, Mr. Owen Harris    0  22.0      1      0   \n",
      "1  Cumings, Mrs. John Bradley (Florence Briggs Th...    1  38.0      1      0   \n",
      "2                             Heikkinen, Miss. Laina    1  26.0      0      0   \n",
      "3       Futrelle, Mrs. Jacques Heath (Lily May Peel)    1  35.0      1      0   \n",
      "4                           Allen, Mr. William Henry    0  35.0      0      0   \n",
      "\n",
      "             Ticket     Fare Cabin  Embarked_Q  Embarked_S  \n",
      "0         A/5 21171   7.2500   NaN       False        True  \n",
      "1          PC 17599  71.2833   C85       False       False  \n",
      "2  STON/O2. 3101282   7.9250   NaN       False        True  \n",
      "3            113803  53.1000  C123       False        True  \n",
      "4            373450   8.0500   NaN       False        True  \n"
     ]
    }
   ],
   "source": [
    "# --- Safe encoding for 'Sex' ---\n",
    "if 'Sex' in df.columns:\n",
    "    # Fill missing values safely\n",
    "    if df['Sex'].dropna().empty:\n",
    "        df['Sex'] = 'male'  # default if all NaN\n",
    "    else:\n",
    "        df['Sex'] = df['Sex'].fillna(df['Sex'].mode()[0])\n",
    "    # Convert to numeric\n",
    "    df['Sex'] = df['Sex'].map({'male': 0, 'female': 1})\n",
    "else:\n",
    "    print(\"'Sex' column not found.\")\n",
    "\n",
    "# --- Safe encoding for 'Embarked' ---\n",
    "if 'Embarked' in df.columns:\n",
    "    # Fill missing values safely\n",
    "    if df['Embarked'].dropna().empty:\n",
    "        df['Embarked'] = 'S'  # default if all NaN\n",
    "    else:\n",
    "        df['Embarked'] = df['Embarked'].fillna(df['Embarked'].mode()[0])\n",
    "    # One-hot encode\n",
    "    df = pd.get_dummies(df, columns=['Embarked'], drop_first=True)\n",
    "else:\n",
    "    print(\"'Embarked' column not found.\")\n",
    "\n",
    "# Show first 5 rows\n",
    "print(df.head())"
   ]
  },
  {
   "cell_type": "markdown",
   "id": "65fadad3-2cfc-4515-a3c8-b9026aef81ca",
   "metadata": {},
   "source": [
    "# 4.Normalize/standardize numerical features"
   ]
  },
  {
   "cell_type": "code",
   "execution_count": 43,
   "id": "d6633ccc-242f-4b1f-b583-3eb3609a91b8",
   "metadata": {},
   "outputs": [
    {
     "name": "stdout",
     "output_type": "stream",
     "text": [
      "        Age      Fare     SibSp     Parch    Pclass\n",
      "0 -0.592481 -0.502445  0.432793 -0.473674  0.827377\n",
      "1  0.638789  0.786845  0.432793 -0.473674 -1.566107\n",
      "2 -0.284663 -0.488854 -0.474545 -0.473674  0.827377\n",
      "3  0.407926  0.420730  0.432793 -0.473674 -1.566107\n",
      "4  0.407926 -0.486337 -0.474545 -0.473674  0.827377\n"
     ]
    }
   ],
   "source": [
    "from sklearn.preprocessing import StandardScaler\n",
    "\n",
    "# List of numerical columns to scale\n",
    "numerical_cols = ['Age', 'Fare', 'SibSp', 'Parch', 'Pclass']\n",
    "\n",
    "# Initialize scaler\n",
    "scaler = StandardScaler()\n",
    "\n",
    "# Fit and transform the numerical columns\n",
    "df[numerical_cols] = scaler.fit_transform(df[numerical_cols])\n",
    "\n",
    "# Show first 5 rows of scaled numerical features\n",
    "print(df[numerical_cols].head())\n"
   ]
  },
  {
   "cell_type": "code",
   "execution_count": 44,
   "id": "84829092-4126-4759-bc8b-aadd10d2f582",
   "metadata": {},
   "outputs": [
    {
     "name": "stdout",
     "output_type": "stream",
     "text": [
      "        Age      Fare  SibSp  Parch  Pclass\n",
      "0  0.271174  0.014151  0.125    0.0     1.0\n",
      "1  0.472229  0.139136  0.125    0.0     0.0\n",
      "2  0.321438  0.015469  0.000    0.0     1.0\n",
      "3  0.434531  0.103644  0.125    0.0     0.0\n",
      "4  0.434531  0.015713  0.000    0.0     1.0\n"
     ]
    }
   ],
   "source": [
    "from sklearn.preprocessing import MinMaxScaler\n",
    "\n",
    "# List of numerical columns to normalize\n",
    "numerical_cols = ['Age', 'Fare', 'SibSp', 'Parch', 'Pclass']\n",
    "\n",
    "# Initialize scaler\n",
    "scaler = MinMaxScaler()\n",
    "\n",
    "# Fit and transform the numerical columns\n",
    "df[numerical_cols] = scaler.fit_transform(df[numerical_cols])\n",
    "\n",
    "# Show first 5 rows of normalized numerical features\n",
    "print(df[numerical_cols].head())\n"
   ]
  },
  {
   "cell_type": "markdown",
   "id": "bef542d7-e9d3-4fd6-8070-f1bfb2e8f776",
   "metadata": {},
   "source": [
    "# 5.Visualize outliers using Boxplots and remove them."
   ]
  },
  {
   "cell_type": "code",
   "execution_count": 45,
   "id": "fef4b331-87db-43bd-b14d-88ea81ae9545",
   "metadata": {},
   "outputs": [
    {
     "data": {
      "image/png": "[encoded data removed]",
      "text/plain": [
       "<Figure size 600x400 with 1 Axes>"
      ]
     },
     "metadata": {},
     "output_type": "display_data"
    },
    {
     "data": {
      "image/png": "[encoded data removed]",
      "text/plain": [
       "<Figure size 600x400 with 1 Axes>"
      ]
     },
     "metadata": {},
     "output_type": "display_data"
    }
   ],
   "source": [
    "import matplotlib.pyplot as plt\n",
    "import seaborn as sns\n",
    "\n",
    "# Columns to check for outliers\n",
    "numerical_cols = ['Age', 'Fare']\n",
    "\n",
    "for col in numerical_cols:\n",
    "    plt.figure(figsize=(6,4))\n",
    "    sns.boxplot(x=df[col])\n",
    "    plt.title(f'Boxplot of {col}')\n",
    "    plt.show()\n"
   ]
  },
  {
   "cell_type": "code",
   "execution_count": 46,
   "id": "78e8b1d8-21f1-4024-94a4-3358f58b4c34",
   "metadata": {},
   "outputs": [],
   "source": [
    "for col in numerical_cols:\n",
    "    Q1 = df[col].quantile(0.25)\n",
    "    Q3 = df[col].quantile(0.75)\n",
    "    IQR = Q3 - Q1\n",
    "    \n",
    "    # Keep only rows within 1.5*IQR\n",
    "    df = df[(df[col] >= (Q1 - 1.5*IQR)) & (df[col] <= (Q3 + 1.5*IQR))]\n"
   ]
  },
  {
   "cell_type": "code",
   "execution_count": 47,
   "id": "610956ed-afe9-49b9-ab1d-84f9255bf94e",
   "metadata": {},
   "outputs": [
    {
     "name": "stdout",
     "output_type": "stream",
     "text": [
      "(718, 13)\n"
     ]
    }
   ],
   "source": [
    "print(df.shape)"
   ]
  },
  {
   "cell_type": "code",
   "execution_count": null,
   "id": "53ea047e-14eb-42a8-8495-8cc9d8752142",
   "metadata": {},
   "outputs": [],
   "source": []
  }
 ],
 "metadata": {
  "kernelspec": {
   "display_name": "Python 3 (ipykernel)",
   "language": "python",
   "name": "python3"
  },
  "language_info": {
   "codemirror_mode": {
    "name": "ipython",
    "version": 3
   },
   "file_extension": ".py",
   "mimetype": "text/x-python",
   "name": "python",
   "nbconvert_exporter": "python",
   "pygments_lexer": "ipython3",
   "version": "3.10.11"
  }
 },
 "nbformat": 4,
 "nbformat_minor": 5
}
